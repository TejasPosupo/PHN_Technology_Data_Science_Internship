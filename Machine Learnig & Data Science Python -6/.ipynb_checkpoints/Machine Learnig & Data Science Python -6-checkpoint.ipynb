{
 "cells": [
  {
   "cell_type": "code",
   "execution_count": 1,
   "id": "b449e60a",
   "metadata": {
    "ExecuteTime": {
     "end_time": "2023-06-06T13:04:25.504264Z",
     "start_time": "2023-06-06T13:04:18.537744Z"
    }
   },
   "outputs": [
    {
     "name": "stdout",
     "output_type": "stream",
     "text": [
      "Equation 1\n",
      "Predicted Coefficients: [0.10501855 0.        ]\n",
      "Actual Coefficients: 0.20517520537917944 0.633375138175356\n",
      "---\n",
      "Equation 2\n",
      "Predicted Coefficients: [0.10501855 0.        ]\n",
      "Actual Coefficients: 0.3603165133897539 0.21394186741312782\n",
      "---\n",
      "Equation 3\n",
      "Predicted Coefficients: [0.10501855 0.        ]\n",
      "Actual Coefficients: 0.32655132783640006 0.8851202448403656\n",
      "---\n",
      "Equation 4\n",
      "Predicted Coefficients: [0.10501855 0.        ]\n",
      "Actual Coefficients: 0.24296407787335728 0.38816770135982115\n",
      "---\n",
      "Equation 5\n",
      "Predicted Coefficients: [0.10501855 0.        ]\n",
      "Actual Coefficients: 0.45990562130676615 0.33156386210050137\n",
      "---\n",
      "Equation 6\n",
      "Predicted Coefficients: [0.10501855 0.        ]\n",
      "Actual Coefficients: 0.9809411969267956 0.7471553742506926\n",
      "---\n",
      "Equation 7\n",
      "Predicted Coefficients: [0.10501855 0.        ]\n",
      "Actual Coefficients: 0.09476405634851837 0.22875822551802105\n",
      "---\n",
      "Equation 8\n",
      "Predicted Coefficients: [0.10501855 0.        ]\n",
      "Actual Coefficients: 0.13271068529854446 0.9785210160352457\n",
      "---\n",
      "Equation 9\n",
      "Predicted Coefficients: [0.10501855 0.        ]\n",
      "Actual Coefficients: 0.22259319369574693 0.09431994934467836\n",
      "---\n",
      "Equation 10\n",
      "Predicted Coefficients: [0.10501855 0.        ]\n",
      "Actual Coefficients: 0.44080911525842403 0.2479354338480888\n",
      "---\n"
     ]
    }
   ],
   "source": [
    "import numpy as np\n",
    "from sklearn.linear_model import LinearRegression\n",
    "from sklearn.preprocessing import StandardScaler\n",
    "\n",
    "# Generate a dataset of linear equations\n",
    "def generate_dataset(num_samples):\n",
    "    X = np.random.rand(num_samples, 2)  # Input variables\n",
    "    slope = np.random.uniform(-5, 5)    # Random slope\n",
    "    intercept = np.random.uniform(-5, 5) # Random intercept\n",
    "    y = slope * X[:, 0] + intercept      # Output values (linear equation)\n",
    "    return X, y\n",
    "\n",
    "# Generate a random dataset of 100 linear equations\n",
    "X_train, y_train = generate_dataset(100)\n",
    "\n",
    "# Perform data pre-processing\n",
    "scaler = StandardScaler()\n",
    "X_train_scaled = scaler.fit_transform(X_train)\n",
    "\n",
    "# Train a linear regression model\n",
    "model = LinearRegression()\n",
    "model.fit(X_train_scaled, y_train)\n",
    "\n",
    "# Generate new input values for prediction\n",
    "X_test, y_test = generate_dataset(10)\n",
    "X_test_scaled = scaler.transform(X_test)\n",
    "\n",
    "# Predict the coefficients of the linear equations\n",
    "y_pred = model.predict(X_test_scaled)\n",
    "\n",
    "# Print the predicted coefficients and actual coefficients\n",
    "for i in range(len(X_test)):\n",
    "    print(\"Equation\", i+1)\n",
    "    print(\"Predicted Coefficients:\", model.coef_)\n",
    "    print(\"Actual Coefficients:\", X_test[i, 0], X_test[i, 1])\n",
    "    print(\"---\")\n"
   ]
  },
  {
   "cell_type": "code",
   "execution_count": null,
   "id": "32af7ea3",
   "metadata": {},
   "outputs": [],
   "source": []
  }
 ],
 "metadata": {
  "kernelspec": {
   "display_name": "Python 3 (ipykernel)",
   "language": "python",
   "name": "python3"
  },
  "language_info": {
   "codemirror_mode": {
    "name": "ipython",
    "version": 3
   },
   "file_extension": ".py",
   "mimetype": "text/x-python",
   "name": "python",
   "nbconvert_exporter": "python",
   "pygments_lexer": "ipython3",
   "version": "3.9.13"
  },
  "varInspector": {
   "cols": {
    "lenName": 16,
    "lenType": 16,
    "lenVar": 40
   },
   "kernels_config": {
    "python": {
     "delete_cmd_postfix": "",
     "delete_cmd_prefix": "del ",
     "library": "var_list.py",
     "varRefreshCmd": "print(var_dic_list())"
    },
    "r": {
     "delete_cmd_postfix": ") ",
     "delete_cmd_prefix": "rm(",
     "library": "var_list.r",
     "varRefreshCmd": "cat(var_dic_list()) "
    }
   },
   "types_to_exclude": [
    "module",
    "function",
    "builtin_function_or_method",
    "instance",
    "_Feature"
   ],
   "window_display": false
  }
 },
 "nbformat": 4,
 "nbformat_minor": 5
}
