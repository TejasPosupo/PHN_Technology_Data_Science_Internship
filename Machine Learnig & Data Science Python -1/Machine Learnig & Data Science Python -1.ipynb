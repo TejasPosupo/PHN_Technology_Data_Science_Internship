{
 "cells": [
  {
   "cell_type": "markdown",
   "id": "b9b06f78",
   "metadata": {},
   "source": [
    "# Importing Dependencies"
   ]
  },
  {
   "cell_type": "code",
   "execution_count": 10,
   "id": "bcacb7fe",
   "metadata": {
    "ExecuteTime": {
     "end_time": "2023-05-13T08:51:51.556997Z",
     "start_time": "2023-05-13T08:51:51.550997Z"
    }
   },
   "outputs": [],
   "source": [
    "import numpy as np\n",
    "import pandas as pd"
   ]
  },
  {
   "cell_type": "markdown",
   "id": "fbe64f9a",
   "metadata": {},
   "source": [
    "# 1. Prepare the sample csv file for car model and their specification, the column names would be   \n",
    "- Company Name  \n",
    "- Model Name  \n",
    "- Fuel Type (For e.g. Petrol, Gas, Diesel, EV)  \n",
    "- Body Style (for e.g. Hatchback, Sedan, SUV)  \n",
    "- Car Length  "
   ]
  },
  {
   "cell_type": "code",
   "execution_count": 11,
   "id": "5a209547",
   "metadata": {
    "ExecuteTime": {
     "end_time": "2023-05-13T08:51:51.588996Z",
     "start_time": "2023-05-13T08:51:51.559995Z"
    }
   },
   "outputs": [
    {
     "data": {
      "text/html": [
       "<div>\n",
       "<style scoped>\n",
       "    .dataframe tbody tr th:only-of-type {\n",
       "        vertical-align: middle;\n",
       "    }\n",
       "\n",
       "    .dataframe tbody tr th {\n",
       "        vertical-align: top;\n",
       "    }\n",
       "\n",
       "    .dataframe thead th {\n",
       "        text-align: right;\n",
       "    }\n",
       "</style>\n",
       "<table border=\"1\" class=\"dataframe\">\n",
       "  <thead>\n",
       "    <tr style=\"text-align: right;\">\n",
       "      <th></th>\n",
       "      <th>Company_Name</th>\n",
       "      <th>Model_Name</th>\n",
       "      <th>Fuel_Type</th>\n",
       "      <th>Body_Style</th>\n",
       "      <th>Car_Length</th>\n",
       "    </tr>\n",
       "  </thead>\n",
       "  <tbody>\n",
       "    <tr>\n",
       "      <th>0</th>\n",
       "      <td>Maruthi Suzuki</td>\n",
       "      <td>Swift</td>\n",
       "      <td>Diesel</td>\n",
       "      <td>SUV</td>\n",
       "      <td>3998mm</td>\n",
       "    </tr>\n",
       "    <tr>\n",
       "      <th>1</th>\n",
       "      <td>Hyundai</td>\n",
       "      <td>i20</td>\n",
       "      <td>Petrol</td>\n",
       "      <td>Hatchback</td>\n",
       "      <td>3995mm</td>\n",
       "    </tr>\n",
       "    <tr>\n",
       "      <th>2</th>\n",
       "      <td>Toyota</td>\n",
       "      <td>Fortuner</td>\n",
       "      <td>Diesel</td>\n",
       "      <td>SUV</td>\n",
       "      <td>4315mm</td>\n",
       "    </tr>\n",
       "  </tbody>\n",
       "</table>\n",
       "</div>"
      ],
      "text/plain": [
       "     Company_Name Model_Name Fuel_Type Body_Style Car_Length\n",
       "0  Maruthi Suzuki      Swift    Diesel        SUV     3998mm\n",
       "1         Hyundai        i20    Petrol  Hatchback     3995mm\n",
       "2          Toyota   Fortuner    Diesel        SUV     4315mm"
      ]
     },
     "execution_count": 11,
     "metadata": {},
     "output_type": "execute_result"
    }
   ],
   "source": [
    "data = {\"Company_Name\":[\"Maruthi Suzuki\",\"Hyundai\",\"Toyota\"],\"Model_Name\":[\"Swift\",\"i20\",\"Fortuner\"],\"Fuel_Type\":[\"Diesel\",\"Petrol\",\"Diesel\"],\"Body_Style\":[\"SUV\",\"Hatchback\",\"SUV\"],\"Car_Length\":[\"3998mm\",\"3995mm\",\"4315mm\"]}\n",
    "df = pd.DataFrame(data)\n",
    "df"
   ]
  },
  {
   "cell_type": "markdown",
   "id": "1eafd872",
   "metadata": {},
   "source": [
    "## create csv file"
   ]
  },
  {
   "cell_type": "code",
   "execution_count": 12,
   "id": "ff12b79b",
   "metadata": {
    "ExecuteTime": {
     "end_time": "2023-05-13T08:51:51.604995Z",
     "start_time": "2023-05-13T08:51:51.591997Z"
    }
   },
   "outputs": [],
   "source": [
    "df.to_csv(\"car.csv\")"
   ]
  },
  {
   "cell_type": "markdown",
   "id": "adec8f65",
   "metadata": {},
   "source": [
    "# 2. Prepare the sample excel file for the car prizing and loan amount, the column names would be  \n",
    "- Company Name     \n",
    "- Model Name  \n",
    "- On road pricing  \n",
    "- Loan amount  \n",
    "- Monthly EMI  \n",
    "- Interest Rate  \n",
    "- Monthly Principal  \n",
    "- Monthly Interest  "
   ]
  },
  {
   "cell_type": "code",
   "execution_count": 13,
   "id": "945440ee",
   "metadata": {
    "ExecuteTime": {
     "end_time": "2023-05-13T08:51:51.635997Z",
     "start_time": "2023-05-13T08:51:51.607997Z"
    }
   },
   "outputs": [
    {
     "data": {
      "text/html": [
       "<div>\n",
       "<style scoped>\n",
       "    .dataframe tbody tr th:only-of-type {\n",
       "        vertical-align: middle;\n",
       "    }\n",
       "\n",
       "    .dataframe tbody tr th {\n",
       "        vertical-align: top;\n",
       "    }\n",
       "\n",
       "    .dataframe thead th {\n",
       "        text-align: right;\n",
       "    }\n",
       "</style>\n",
       "<table border=\"1\" class=\"dataframe\">\n",
       "  <thead>\n",
       "    <tr style=\"text-align: right;\">\n",
       "      <th></th>\n",
       "      <th>Company_Name</th>\n",
       "      <th>Model_Name</th>\n",
       "      <th>On_Road_Pricing</th>\n",
       "      <th>Loan_Amount</th>\n",
       "      <th>Monthly_EMI</th>\n",
       "      <th>Interest_Rate</th>\n",
       "      <th>Monthly_Principal</th>\n",
       "      <th>Monthly_Interest</th>\n",
       "    </tr>\n",
       "  </thead>\n",
       "  <tbody>\n",
       "    <tr>\n",
       "      <th>0</th>\n",
       "      <td>Maruthi Suzuki</td>\n",
       "      <td>Swift</td>\n",
       "      <td>800000</td>\n",
       "      <td>500000</td>\n",
       "      <td>52000</td>\n",
       "      <td>8</td>\n",
       "      <td>8000</td>\n",
       "      <td>10000</td>\n",
       "    </tr>\n",
       "    <tr>\n",
       "      <th>1</th>\n",
       "      <td>Hyundai</td>\n",
       "      <td>i20</td>\n",
       "      <td>1200000</td>\n",
       "      <td>1000000</td>\n",
       "      <td>45000</td>\n",
       "      <td>6</td>\n",
       "      <td>9000</td>\n",
       "      <td>9000</td>\n",
       "    </tr>\n",
       "    <tr>\n",
       "      <th>2</th>\n",
       "      <td>Toyota</td>\n",
       "      <td>Fortuner</td>\n",
       "      <td>1100000</td>\n",
       "      <td>1000000</td>\n",
       "      <td>35000</td>\n",
       "      <td>9</td>\n",
       "      <td>7800</td>\n",
       "      <td>8900</td>\n",
       "    </tr>\n",
       "  </tbody>\n",
       "</table>\n",
       "</div>"
      ],
      "text/plain": [
       "     Company_Name Model_Name On_Road_Pricing Loan_Amount  Monthly_EMI  \\\n",
       "0  Maruthi Suzuki      Swift          800000      500000        52000   \n",
       "1         Hyundai        i20         1200000     1000000        45000   \n",
       "2          Toyota   Fortuner         1100000     1000000        35000   \n",
       "\n",
       "  Interest_Rate Monthly_Principal  Monthly_Interest  \n",
       "0             8              8000             10000  \n",
       "1             6              9000              9000  \n",
       "2             9              7800              8900  "
      ]
     },
     "execution_count": 13,
     "metadata": {},
     "output_type": "execute_result"
    }
   ],
   "source": [
    "data = {\"Company_Name\":[\"Maruthi Suzuki\",\"Hyundai\",\"Toyota\"],\"Model_Name\":[\"Swift\",\"i20\",\"Fortuner\"],\"On_Road_Pricing\":[\"800000\",\"1200000\",\"1100000\"],\"Loan_Amount\":[\"500000\",\"1000000\",\"1000000\"],\" Monthly_EMI\":[\"52000\",\"45000\",\"35000\"],\"Interest_Rate\":[\"8\",\"6\",\"9\"],\"Monthly_Principal\":[\"8000\",\"9000\",\"7800\"],\" Monthly_Interest\":[\"10000\",\"9000\",\"8900\"]}\n",
    "dataset = pd.DataFrame(data)\n",
    "dataset"
   ]
  },
  {
   "cell_type": "markdown",
   "id": "e8dfb185",
   "metadata": {},
   "source": [
    "## Create excel file"
   ]
  },
  {
   "cell_type": "code",
   "execution_count": 14,
   "id": "0485ee9c",
   "metadata": {
    "ExecuteTime": {
     "end_time": "2023-05-13T08:51:51.792223Z",
     "start_time": "2023-05-13T08:51:51.640997Z"
    }
   },
   "outputs": [],
   "source": [
    "dataset.to_excel(\"car_price.xlsx\")"
   ]
  },
  {
   "cell_type": "markdown",
   "id": "4ae14513",
   "metadata": {},
   "source": [
    "# 3. Write the code to read the csv file and the excel file and convert them into the Data frame."
   ]
  },
  {
   "cell_type": "markdown",
   "id": "889b48ab",
   "metadata": {},
   "source": [
    "## read the csv file"
   ]
  },
  {
   "cell_type": "code",
   "execution_count": 15,
   "id": "09cd906d",
   "metadata": {
    "ExecuteTime": {
     "end_time": "2023-05-13T08:51:51.823052Z",
     "start_time": "2023-05-13T08:51:51.796051Z"
    }
   },
   "outputs": [
    {
     "data": {
      "text/html": [
       "<div>\n",
       "<style scoped>\n",
       "    .dataframe tbody tr th:only-of-type {\n",
       "        vertical-align: middle;\n",
       "    }\n",
       "\n",
       "    .dataframe tbody tr th {\n",
       "        vertical-align: top;\n",
       "    }\n",
       "\n",
       "    .dataframe thead th {\n",
       "        text-align: right;\n",
       "    }\n",
       "</style>\n",
       "<table border=\"1\" class=\"dataframe\">\n",
       "  <thead>\n",
       "    <tr style=\"text-align: right;\">\n",
       "      <th></th>\n",
       "      <th>Unnamed: 0</th>\n",
       "      <th>Company_Name</th>\n",
       "      <th>Model_Name</th>\n",
       "      <th>Fuel_Type</th>\n",
       "      <th>Body_Style</th>\n",
       "      <th>Car_Length</th>\n",
       "    </tr>\n",
       "  </thead>\n",
       "  <tbody>\n",
       "    <tr>\n",
       "      <th>0</th>\n",
       "      <td>0</td>\n",
       "      <td>Maruthi Suzuki</td>\n",
       "      <td>Swift</td>\n",
       "      <td>Diesel</td>\n",
       "      <td>SUV</td>\n",
       "      <td>3998mm</td>\n",
       "    </tr>\n",
       "    <tr>\n",
       "      <th>1</th>\n",
       "      <td>1</td>\n",
       "      <td>Hyundai</td>\n",
       "      <td>i20</td>\n",
       "      <td>Petrol</td>\n",
       "      <td>Hatchback</td>\n",
       "      <td>3995mm</td>\n",
       "    </tr>\n",
       "    <tr>\n",
       "      <th>2</th>\n",
       "      <td>2</td>\n",
       "      <td>Toyota</td>\n",
       "      <td>Fortuner</td>\n",
       "      <td>Diesel</td>\n",
       "      <td>SUV</td>\n",
       "      <td>4315mm</td>\n",
       "    </tr>\n",
       "  </tbody>\n",
       "</table>\n",
       "</div>"
      ],
      "text/plain": [
       "   Unnamed: 0    Company_Name Model_Name Fuel_Type Body_Style Car_Length\n",
       "0           0  Maruthi Suzuki      Swift    Diesel        SUV     3998mm\n",
       "1           1         Hyundai        i20    Petrol  Hatchback     3995mm\n",
       "2           2          Toyota   Fortuner    Diesel        SUV     4315mm"
      ]
     },
     "execution_count": 15,
     "metadata": {},
     "output_type": "execute_result"
    }
   ],
   "source": [
    "\n",
    "csv_data = pd.read_csv(\"car.csv\")\n",
    "csv_data"
   ]
  },
  {
   "cell_type": "markdown",
   "id": "7c5ff992",
   "metadata": {},
   "source": [
    "## Read the excel file"
   ]
  },
  {
   "cell_type": "code",
   "execution_count": 16,
   "id": "334ad6ca",
   "metadata": {
    "ExecuteTime": {
     "end_time": "2023-05-13T08:51:51.937052Z",
     "start_time": "2023-05-13T08:51:51.831051Z"
    }
   },
   "outputs": [
    {
     "data": {
      "text/html": [
       "<div>\n",
       "<style scoped>\n",
       "    .dataframe tbody tr th:only-of-type {\n",
       "        vertical-align: middle;\n",
       "    }\n",
       "\n",
       "    .dataframe tbody tr th {\n",
       "        vertical-align: top;\n",
       "    }\n",
       "\n",
       "    .dataframe thead th {\n",
       "        text-align: right;\n",
       "    }\n",
       "</style>\n",
       "<table border=\"1\" class=\"dataframe\">\n",
       "  <thead>\n",
       "    <tr style=\"text-align: right;\">\n",
       "      <th></th>\n",
       "      <th>Unnamed: 0</th>\n",
       "      <th>Company_Name</th>\n",
       "      <th>Model_Name</th>\n",
       "      <th>On_Road_Pricing</th>\n",
       "      <th>Loan_Amount</th>\n",
       "      <th>Monthly_EMI</th>\n",
       "      <th>Interest_Rate</th>\n",
       "      <th>Monthly_Principal</th>\n",
       "      <th>Monthly_Interest</th>\n",
       "    </tr>\n",
       "  </thead>\n",
       "  <tbody>\n",
       "    <tr>\n",
       "      <th>0</th>\n",
       "      <td>0</td>\n",
       "      <td>Maruthi Suzuki</td>\n",
       "      <td>Swift</td>\n",
       "      <td>800000</td>\n",
       "      <td>500000</td>\n",
       "      <td>52000</td>\n",
       "      <td>8</td>\n",
       "      <td>8000</td>\n",
       "      <td>10000</td>\n",
       "    </tr>\n",
       "    <tr>\n",
       "      <th>1</th>\n",
       "      <td>1</td>\n",
       "      <td>Hyundai</td>\n",
       "      <td>i20</td>\n",
       "      <td>1200000</td>\n",
       "      <td>1000000</td>\n",
       "      <td>45000</td>\n",
       "      <td>6</td>\n",
       "      <td>9000</td>\n",
       "      <td>9000</td>\n",
       "    </tr>\n",
       "    <tr>\n",
       "      <th>2</th>\n",
       "      <td>2</td>\n",
       "      <td>Toyota</td>\n",
       "      <td>Fortuner</td>\n",
       "      <td>1100000</td>\n",
       "      <td>1000000</td>\n",
       "      <td>35000</td>\n",
       "      <td>9</td>\n",
       "      <td>7800</td>\n",
       "      <td>8900</td>\n",
       "    </tr>\n",
       "  </tbody>\n",
       "</table>\n",
       "</div>"
      ],
      "text/plain": [
       "   Unnamed: 0    Company_Name Model_Name  On_Road_Pricing  Loan_Amount  \\\n",
       "0           0  Maruthi Suzuki      Swift           800000       500000   \n",
       "1           1         Hyundai        i20          1200000      1000000   \n",
       "2           2          Toyota   Fortuner          1100000      1000000   \n",
       "\n",
       "    Monthly_EMI  Interest_Rate  Monthly_Principal   Monthly_Interest  \n",
       "0         52000              8               8000              10000  \n",
       "1         45000              6               9000               9000  \n",
       "2         35000              9               7800               8900  "
      ]
     },
     "execution_count": 16,
     "metadata": {},
     "output_type": "execute_result"
    }
   ],
   "source": [
    "excel_data = pd.read_excel(\"car_price.xlsx\")\n",
    "excel_data"
   ]
  },
  {
   "cell_type": "markdown",
   "id": "184358b3",
   "metadata": {},
   "source": [
    "# 4. Merge the two Data frame on the basis of primary key"
   ]
  },
  {
   "cell_type": "code",
   "execution_count": 17,
   "id": "55c89152",
   "metadata": {
    "ExecuteTime": {
     "end_time": "2023-05-13T08:51:51.997052Z",
     "start_time": "2023-05-13T08:51:51.947052Z"
    }
   },
   "outputs": [
    {
     "data": {
      "text/html": [
       "<div>\n",
       "<style scoped>\n",
       "    .dataframe tbody tr th:only-of-type {\n",
       "        vertical-align: middle;\n",
       "    }\n",
       "\n",
       "    .dataframe tbody tr th {\n",
       "        vertical-align: top;\n",
       "    }\n",
       "\n",
       "    .dataframe thead th {\n",
       "        text-align: right;\n",
       "    }\n",
       "</style>\n",
       "<table border=\"1\" class=\"dataframe\">\n",
       "  <thead>\n",
       "    <tr style=\"text-align: right;\">\n",
       "      <th></th>\n",
       "      <th>Unnamed: 0_x</th>\n",
       "      <th>Company_Name</th>\n",
       "      <th>Model_Name_x</th>\n",
       "      <th>Fuel_Type</th>\n",
       "      <th>Body_Style</th>\n",
       "      <th>Car_Length</th>\n",
       "      <th>Unnamed: 0_y</th>\n",
       "      <th>Model_Name_y</th>\n",
       "      <th>On_Road_Pricing</th>\n",
       "      <th>Loan_Amount</th>\n",
       "      <th>Monthly_EMI</th>\n",
       "      <th>Interest_Rate</th>\n",
       "      <th>Monthly_Principal</th>\n",
       "      <th>Monthly_Interest</th>\n",
       "    </tr>\n",
       "  </thead>\n",
       "  <tbody>\n",
       "    <tr>\n",
       "      <th>0</th>\n",
       "      <td>0</td>\n",
       "      <td>Maruthi Suzuki</td>\n",
       "      <td>Swift</td>\n",
       "      <td>Diesel</td>\n",
       "      <td>SUV</td>\n",
       "      <td>3998mm</td>\n",
       "      <td>0</td>\n",
       "      <td>Swift</td>\n",
       "      <td>800000</td>\n",
       "      <td>500000</td>\n",
       "      <td>52000</td>\n",
       "      <td>8</td>\n",
       "      <td>8000</td>\n",
       "      <td>10000</td>\n",
       "    </tr>\n",
       "    <tr>\n",
       "      <th>1</th>\n",
       "      <td>1</td>\n",
       "      <td>Hyundai</td>\n",
       "      <td>i20</td>\n",
       "      <td>Petrol</td>\n",
       "      <td>Hatchback</td>\n",
       "      <td>3995mm</td>\n",
       "      <td>1</td>\n",
       "      <td>i20</td>\n",
       "      <td>1200000</td>\n",
       "      <td>1000000</td>\n",
       "      <td>45000</td>\n",
       "      <td>6</td>\n",
       "      <td>9000</td>\n",
       "      <td>9000</td>\n",
       "    </tr>\n",
       "    <tr>\n",
       "      <th>2</th>\n",
       "      <td>2</td>\n",
       "      <td>Toyota</td>\n",
       "      <td>Fortuner</td>\n",
       "      <td>Diesel</td>\n",
       "      <td>SUV</td>\n",
       "      <td>4315mm</td>\n",
       "      <td>2</td>\n",
       "      <td>Fortuner</td>\n",
       "      <td>1100000</td>\n",
       "      <td>1000000</td>\n",
       "      <td>35000</td>\n",
       "      <td>9</td>\n",
       "      <td>7800</td>\n",
       "      <td>8900</td>\n",
       "    </tr>\n",
       "  </tbody>\n",
       "</table>\n",
       "</div>"
      ],
      "text/plain": [
       "   Unnamed: 0_x    Company_Name Model_Name_x Fuel_Type Body_Style Car_Length  \\\n",
       "0             0  Maruthi Suzuki        Swift    Diesel        SUV     3998mm   \n",
       "1             1         Hyundai          i20    Petrol  Hatchback     3995mm   \n",
       "2             2          Toyota     Fortuner    Diesel        SUV     4315mm   \n",
       "\n",
       "   Unnamed: 0_y Model_Name_y  On_Road_Pricing  Loan_Amount   Monthly_EMI  \\\n",
       "0             0        Swift           800000       500000         52000   \n",
       "1             1          i20          1200000      1000000         45000   \n",
       "2             2     Fortuner          1100000      1000000         35000   \n",
       "\n",
       "   Interest_Rate  Monthly_Principal   Monthly_Interest  \n",
       "0              8               8000              10000  \n",
       "1              6               9000               9000  \n",
       "2              9               7800               8900  "
      ]
     },
     "execution_count": 17,
     "metadata": {},
     "output_type": "execute_result"
    }
   ],
   "source": [
    "merged_data = csv_data.merge(excel_data, on=\"Company_Name\")\n",
    "merged_data"
   ]
  },
  {
   "cell_type": "code",
   "execution_count": null,
   "id": "d8a1f971",
   "metadata": {},
   "outputs": [],
   "source": []
  },
  {
   "cell_type": "code",
   "execution_count": null,
   "id": "b99e50ba",
   "metadata": {},
   "outputs": [],
   "source": []
  }
 ],
 "metadata": {
  "kernelspec": {
   "display_name": "Python 3 (ipykernel)",
   "language": "python",
   "name": "python3"
  },
  "language_info": {
   "codemirror_mode": {
    "name": "ipython",
    "version": 3
   },
   "file_extension": ".py",
   "mimetype": "text/x-python",
   "name": "python",
   "nbconvert_exporter": "python",
   "pygments_lexer": "ipython3",
   "version": "3.9.13"
  },
  "varInspector": {
   "cols": {
    "lenName": 16,
    "lenType": 16,
    "lenVar": 40
   },
   "kernels_config": {
    "python": {
     "delete_cmd_postfix": "",
     "delete_cmd_prefix": "del ",
     "library": "var_list.py",
     "varRefreshCmd": "print(var_dic_list())"
    },
    "r": {
     "delete_cmd_postfix": ") ",
     "delete_cmd_prefix": "rm(",
     "library": "var_list.r",
     "varRefreshCmd": "cat(var_dic_list()) "
    }
   },
   "types_to_exclude": [
    "module",
    "function",
    "builtin_function_or_method",
    "instance",
    "_Feature"
   ],
   "window_display": false
  }
 },
 "nbformat": 4,
 "nbformat_minor": 5
}
