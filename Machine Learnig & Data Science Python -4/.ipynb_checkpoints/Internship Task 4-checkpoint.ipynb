{
 "cells": [
  {
   "cell_type": "markdown",
   "id": "9a65391f",
   "metadata": {},
   "source": [
    "<h1 align=\"center\">Internship Task 4</h1>"
   ]
  },
  {
   "cell_type": "code",
   "execution_count": 3,
   "id": "cacdf15d",
   "metadata": {
    "ExecuteTime": {
     "end_time": "2023-06-04T07:52:01.419572Z",
     "start_time": "2023-06-04T07:52:01.409573Z"
    }
   },
   "outputs": [],
   "source": [
    "import numpy as np"
   ]
  },
  {
   "cell_type": "markdown",
   "id": "6e9ce067",
   "metadata": {},
   "source": [
    "# 1. Create a NumPy array with the following values: [1, 2, 3, 4, 5]."
   ]
  },
  {
   "cell_type": "code",
   "execution_count": 23,
   "id": "8644f0a2",
   "metadata": {
    "ExecuteTime": {
     "end_time": "2023-06-04T08:00:19.772239Z",
     "start_time": "2023-06-04T08:00:19.751222Z"
    }
   },
   "outputs": [],
   "source": [
    "array1 = np.array([1, 2, 3, 4, 5])"
   ]
  },
  {
   "cell_type": "code",
   "execution_count": 24,
   "id": "3c3e8d3a",
   "metadata": {
    "ExecuteTime": {
     "end_time": "2023-06-04T08:00:20.425883Z",
     "start_time": "2023-06-04T08:00:20.409884Z"
    }
   },
   "outputs": [
    {
     "name": "stdout",
     "output_type": "stream",
     "text": [
      "[1 2 3 4 5]\n"
     ]
    },
    {
     "data": {
      "text/plain": [
       "numpy.ndarray"
      ]
     },
     "execution_count": 24,
     "metadata": {},
     "output_type": "execute_result"
    }
   ],
   "source": [
    "print(array1)\n",
    "type(array1)"
   ]
  },
  {
   "cell_type": "markdown",
   "id": "c2e4081d",
   "metadata": {},
   "source": [
    "# 2. Print the shape of the array using the .shape attribute."
   ]
  },
  {
   "cell_type": "code",
   "execution_count": 25,
   "id": "a9c6b020",
   "metadata": {
    "ExecuteTime": {
     "end_time": "2023-06-04T08:00:24.069557Z",
     "start_time": "2023-06-04T08:00:24.061557Z"
    }
   },
   "outputs": [
    {
     "name": "stdout",
     "output_type": "stream",
     "text": [
      "Original array shape: (5,)\n"
     ]
    }
   ],
   "source": [
    "print(\"Original array shape:\", array1.shape)"
   ]
  },
  {
   "cell_type": "markdown",
   "id": "d50fb54e",
   "metadata": {},
   "source": [
    "# 3. Reshape the array into a 2D array with 2 rows and 3 columns."
   ]
  },
  {
   "cell_type": "code",
   "execution_count": 26,
   "id": "f028e207",
   "metadata": {
    "ExecuteTime": {
     "end_time": "2023-06-04T08:00:33.816341Z",
     "start_time": "2023-06-04T08:00:33.782342Z"
    }
   },
   "outputs": [
    {
     "ename": "ValueError",
     "evalue": "cannot reshape array of size 5 into shape (2,3)",
     "output_type": "error",
     "traceback": [
      "\u001b[1;31m---------------------------------------------------------------------------\u001b[0m",
      "\u001b[1;31mValueError\u001b[0m                                Traceback (most recent call last)",
      "\u001b[1;32m~\\AppData\\Local\\Temp\\ipykernel_4992\\2797832.py\u001b[0m in \u001b[0;36m<module>\u001b[1;34m\u001b[0m\n\u001b[1;32m----> 1\u001b[1;33m \u001b[0marray2\u001b[0m \u001b[1;33m=\u001b[0m \u001b[0marray1\u001b[0m\u001b[1;33m.\u001b[0m\u001b[0mreshape\u001b[0m\u001b[1;33m(\u001b[0m\u001b[1;36m2\u001b[0m\u001b[1;33m,\u001b[0m \u001b[1;36m3\u001b[0m\u001b[1;33m)\u001b[0m\u001b[1;33m\u001b[0m\u001b[1;33m\u001b[0m\u001b[0m\n\u001b[0m",
      "\u001b[1;31mValueError\u001b[0m: cannot reshape array of size 5 into shape (2,3)"
     ]
    }
   ],
   "source": [
    "array2 = array1.reshape(2, 3)"
   ]
  },
  {
   "cell_type": "code",
   "execution_count": 27,
   "id": "4b5ffe2f",
   "metadata": {
    "ExecuteTime": {
     "end_time": "2023-06-04T08:01:58.685495Z",
     "start_time": "2023-06-04T08:01:58.667494Z"
    }
   },
   "outputs": [],
   "source": [
    "array3 = np.array([1, 2, 3, 4, 5, 6])"
   ]
  },
  {
   "cell_type": "code",
   "execution_count": 29,
   "id": "91c73708",
   "metadata": {
    "ExecuteTime": {
     "end_time": "2023-06-04T08:02:22.911164Z",
     "start_time": "2023-06-04T08:02:22.894163Z"
    }
   },
   "outputs": [
    {
     "name": "stdout",
     "output_type": "stream",
     "text": [
      "[1 2 3 4 5 6]\n"
     ]
    }
   ],
   "source": [
    "print(array3)"
   ]
  },
  {
   "cell_type": "code",
   "execution_count": 30,
   "id": "464015b8",
   "metadata": {
    "ExecuteTime": {
     "end_time": "2023-06-04T08:02:44.650529Z",
     "start_time": "2023-06-04T08:02:44.635527Z"
    }
   },
   "outputs": [],
   "source": [
    "array3 = array3.reshape(2, 3)"
   ]
  },
  {
   "cell_type": "code",
   "execution_count": 31,
   "id": "eb5e8970",
   "metadata": {
    "ExecuteTime": {
     "end_time": "2023-06-04T08:02:52.093675Z",
     "start_time": "2023-06-04T08:02:52.085674Z"
    }
   },
   "outputs": [
    {
     "name": "stdout",
     "output_type": "stream",
     "text": [
      "[[1 2 3]\n",
      " [4 5 6]]\n"
     ]
    }
   ],
   "source": [
    "print(array3)"
   ]
  },
  {
   "cell_type": "markdown",
   "id": "f797880b",
   "metadata": {},
   "source": [
    "# 4. Print the shape of the new array."
   ]
  },
  {
   "cell_type": "code",
   "execution_count": 32,
   "id": "9738678f",
   "metadata": {
    "ExecuteTime": {
     "end_time": "2023-06-04T08:04:03.461993Z",
     "start_time": "2023-06-04T08:04:03.447994Z"
    }
   },
   "outputs": [
    {
     "name": "stdout",
     "output_type": "stream",
     "text": [
      "(2, 3)\n"
     ]
    }
   ],
   "source": [
    "print(array3.shape)"
   ]
  },
  {
   "cell_type": "markdown",
   "id": "c47f1938",
   "metadata": {},
   "source": [
    "# 5. Create a second NumPy array with the following values: [6, 7, 8, 9, 10]."
   ]
  },
  {
   "cell_type": "code",
   "execution_count": 34,
   "id": "d4f8f024",
   "metadata": {
    "ExecuteTime": {
     "end_time": "2023-06-04T08:05:55.734246Z",
     "start_time": "2023-06-04T08:05:55.716246Z"
    }
   },
   "outputs": [
    {
     "name": "stdout",
     "output_type": "stream",
     "text": [
      "[ 6  7  8  9 10]\n"
     ]
    }
   ],
   "source": [
    "array4 = np.array([6, 7, 8, 9, 10])\n",
    "print(array4)"
   ]
  },
  {
   "cell_type": "markdown",
   "id": "30d7e617",
   "metadata": {},
   "source": [
    "# 6. Concatenate the two arrays together horizontally."
   ]
  },
  {
   "cell_type": "code",
   "execution_count": 63,
   "id": "54e1192a",
   "metadata": {
    "ExecuteTime": {
     "end_time": "2023-06-04T08:21:57.362017Z",
     "start_time": "2023-06-04T08:21:57.344017Z"
    }
   },
   "outputs": [],
   "source": [
    "array5 = np.array([1, 2, 3, 4, 5])\n",
    "array6 = np.array([6, 7, 8, 9, 10])"
   ]
  },
  {
   "cell_type": "code",
   "execution_count": 64,
   "id": "3fa2e1c7",
   "metadata": {
    "ExecuteTime": {
     "end_time": "2023-06-04T08:21:57.891787Z",
     "start_time": "2023-06-04T08:21:57.884787Z"
    }
   },
   "outputs": [],
   "source": [
    "Result_array7 = np.concatenate((np.expand_dims(array5, axis=0), np.expand_dims(array6, axis=0)), axis=1)"
   ]
  },
  {
   "cell_type": "markdown",
   "id": "2796dc7a",
   "metadata": {},
   "source": [
    "# 7. Print the resulting array."
   ]
  },
  {
   "cell_type": "code",
   "execution_count": 65,
   "id": "7de9d7b6",
   "metadata": {
    "ExecuteTime": {
     "end_time": "2023-06-04T08:21:59.140682Z",
     "start_time": "2023-06-04T08:21:59.123681Z"
    }
   },
   "outputs": [
    {
     "name": "stdout",
     "output_type": "stream",
     "text": [
      "[[ 1  2  3  4  5  6  7  8  9 10]]\n"
     ]
    }
   ],
   "source": [
    "print(Result_array7)"
   ]
  },
  {
   "cell_type": "markdown",
   "id": "32891e82",
   "metadata": {},
   "source": [
    "# 8. Compute the resulting array's mean, median, and standard deviation."
   ]
  },
  {
   "cell_type": "code",
   "execution_count": 67,
   "id": "c997ba5e",
   "metadata": {
    "ExecuteTime": {
     "end_time": "2023-06-04T08:24:46.656173Z",
     "start_time": "2023-06-04T08:24:46.640172Z"
    }
   },
   "outputs": [],
   "source": [
    "mean = np.mean(Result_array7)\n",
    "median = np.median(Result_array7)\n",
    "std = np.std(Result_array7)"
   ]
  },
  {
   "cell_type": "code",
   "execution_count": 70,
   "id": "91a0d45b",
   "metadata": {
    "ExecuteTime": {
     "end_time": "2023-06-04T08:27:17.304796Z",
     "start_time": "2023-06-04T08:27:17.293796Z"
    }
   },
   "outputs": [
    {
     "name": "stdout",
     "output_type": "stream",
     "text": [
      "mean : 5.5\n",
      "median : 5.5\n",
      "standard deviation : 2.8722813232690143\n"
     ]
    }
   ],
   "source": [
    "print(\"mean :\",mean)\n",
    "print(\"median :\",median)\n",
    "print(\"standard deviation :\",std)"
   ]
  },
  {
   "cell_type": "code",
   "execution_count": null,
   "id": "49334a6e",
   "metadata": {},
   "outputs": [],
   "source": []
  }
 ],
 "metadata": {
  "kernelspec": {
   "display_name": "Python 3 (ipykernel)",
   "language": "python",
   "name": "python3"
  },
  "language_info": {
   "codemirror_mode": {
    "name": "ipython",
    "version": 3
   },
   "file_extension": ".py",
   "mimetype": "text/x-python",
   "name": "python",
   "nbconvert_exporter": "python",
   "pygments_lexer": "ipython3",
   "version": "3.9.13"
  },
  "varInspector": {
   "cols": {
    "lenName": 16,
    "lenType": 16,
    "lenVar": 40
   },
   "kernels_config": {
    "python": {
     "delete_cmd_postfix": "",
     "delete_cmd_prefix": "del ",
     "library": "var_list.py",
     "varRefreshCmd": "print(var_dic_list())"
    },
    "r": {
     "delete_cmd_postfix": ") ",
     "delete_cmd_prefix": "rm(",
     "library": "var_list.r",
     "varRefreshCmd": "cat(var_dic_list()) "
    }
   },
   "types_to_exclude": [
    "module",
    "function",
    "builtin_function_or_method",
    "instance",
    "_Feature"
   ],
   "window_display": false
  }
 },
 "nbformat": 4,
 "nbformat_minor": 5
}
