{
 "cells": [
  {
   "cell_type": "code",
   "execution_count": 2,
   "id": "d44fb3be",
   "metadata": {},
   "outputs": [],
   "source": [
    "import numpy as np\n",
    "import pandas as pd"
   ]
  },
  {
   "cell_type": "code",
   "execution_count": 4,
   "id": "586b8079",
   "metadata": {},
   "outputs": [
    {
     "data": {
      "text/html": [
       "<div>\n",
       "<style scoped>\n",
       "    .dataframe tbody tr th:only-of-type {\n",
       "        vertical-align: middle;\n",
       "    }\n",
       "\n",
       "    .dataframe tbody tr th {\n",
       "        vertical-align: top;\n",
       "    }\n",
       "\n",
       "    .dataframe thead th {\n",
       "        text-align: right;\n",
       "    }\n",
       "</style>\n",
       "<table border=\"1\" class=\"dataframe\">\n",
       "  <thead>\n",
       "    <tr style=\"text-align: right;\">\n",
       "      <th></th>\n",
       "      <th>fruit</th>\n",
       "      <th>Quantity</th>\n",
       "    </tr>\n",
       "  </thead>\n",
       "  <tbody>\n",
       "    <tr>\n",
       "      <th>0</th>\n",
       "      <td>Apple</td>\n",
       "      <td>10</td>\n",
       "    </tr>\n",
       "    <tr>\n",
       "      <th>1</th>\n",
       "      <td>Banana</td>\n",
       "      <td>5</td>\n",
       "    </tr>\n",
       "    <tr>\n",
       "      <th>2</th>\n",
       "      <td>Apple</td>\n",
       "      <td>15</td>\n",
       "    </tr>\n",
       "    <tr>\n",
       "      <th>3</th>\n",
       "      <td>Orange</td>\n",
       "      <td>20</td>\n",
       "    </tr>\n",
       "    <tr>\n",
       "      <th>4</th>\n",
       "      <td>Banana</td>\n",
       "      <td>10</td>\n",
       "    </tr>\n",
       "  </tbody>\n",
       "</table>\n",
       "</div>"
      ],
      "text/plain": [
       "    fruit Quantity\n",
       "0   Apple       10\n",
       "1  Banana        5\n",
       "2   Apple       15\n",
       "3  Orange       20\n",
       "4  Banana       10"
      ]
     },
     "execution_count": 4,
     "metadata": {},
     "output_type": "execute_result"
    }
   ],
   "source": [
    "# dataframe = {\"fruit\":['Apple' , 'Banana' , 'Apple' , 'Orange' , 'Banana'] , \"Quantity\": ['10', '5' ,'15' ,'20' ,'10']}\n",
    "# data = pd.DataFrame(dataframe)\n",
    "# data\n"
   ]
  },
  {
   "cell_type": "code",
   "execution_count": 6,
   "id": "b5cb3b52",
   "metadata": {},
   "outputs": [],
   "source": [
    "import openpyxl"
   ]
  },
  {
   "cell_type": "code",
   "execution_count": 15,
   "id": "8ff23169",
   "metadata": {},
   "outputs": [
    {
     "name": "stdout",
     "output_type": "stream",
     "text": [
      "('Fruit', 'Quantity')\n",
      "('Apple', 10)\n",
      "('Banana', 5)\n",
      "('Apple', 15)\n",
      "('Orange', 20)\n",
      "('Banana', 10)\n"
     ]
    }
   ],
   "source": [
    "data = openpyxl.load_workbook(\"D:\\dataset\\Assignment_data.xlsx\")\n",
    "sheet = data.active\n",
    "for row in sheet.iter_rows(values_only=True):\n",
    "    print(row)\n"
   ]
  },
  {
   "cell_type": "code",
   "execution_count": 17,
   "id": "d686b433",
   "metadata": {},
   "outputs": [],
   "source": [
    "import openpyxl\n",
    "\n",
    "# Open the Excel spreadsheet\n",
    "wb = openpyxl.load_workbook('D:\\dataset\\Assignment_data.xlsx')\n",
    "\n",
    "# Select the first sheet\n",
    "sheet = wb.active\n",
    "\n",
    "# Calculate the total quantity of each fruit\n",
    "fruit_totals = {}\n",
    "for row in sheet.iter_rows(min_row=2, values_only=True):\n",
    "    fruit = row[0]\n",
    "    quantity = row[1]\n",
    "    if fruit in fruit_totals:\n",
    "        fruit_totals[fruit] += quantity\n",
    "    else:\n",
    "        fruit_totals[fruit] = quantity\n",
    "\n",
    "# Create a new workbook and sheet\n",
    "new_wb = openpyxl.Workbook()\n",
    "new_sheet = new_wb.active\n",
    "\n",
    "# Add the headers to the new sheet\n",
    "new_sheet.cell(row=1, column=1, value='Fruit')\n",
    "new_sheet.cell(row=1, column=2, value='Total Quantity')\n",
    "\n",
    "# Write the fruit totals to the new sheet\n",
    "row_num = 2\n",
    "for fruit, total_quantity in fruit_totals.items():\n",
    "    new_sheet.cell(row=row_num, column=1, value=fruit)\n",
    "    new_sheet.cell(row=row_num, column=2, value=total_quantity)\n",
    "    row_num += 1\n",
    "\n",
    "# Save the new workbook\n",
    "new_wb.save('fruit_totals.xlsx')\n"
   ]
  },
  {
   "cell_type": "code",
   "execution_count": null,
   "id": "86c46a04",
   "metadata": {},
   "outputs": [],
   "source": []
  }
 ],
 "metadata": {
  "kernelspec": {
   "display_name": "Python 3 (ipykernel)",
   "language": "python",
   "name": "python3"
  },
  "language_info": {
   "codemirror_mode": {
    "name": "ipython",
    "version": 3
   },
   "file_extension": ".py",
   "mimetype": "text/x-python",
   "name": "python",
   "nbconvert_exporter": "python",
   "pygments_lexer": "ipython3",
   "version": "3.9.13"
  },
  "varInspector": {
   "cols": {
    "lenName": 16,
    "lenType": 16,
    "lenVar": 40
   },
   "kernels_config": {
    "python": {
     "delete_cmd_postfix": "",
     "delete_cmd_prefix": "del ",
     "library": "var_list.py",
     "varRefreshCmd": "print(var_dic_list())"
    },
    "r": {
     "delete_cmd_postfix": ") ",
     "delete_cmd_prefix": "rm(",
     "library": "var_list.r",
     "varRefreshCmd": "cat(var_dic_list()) "
    }
   },
   "types_to_exclude": [
    "module",
    "function",
    "builtin_function_or_method",
    "instance",
    "_Feature"
   ],
   "window_display": false
  }
 },
 "nbformat": 4,
 "nbformat_minor": 5
}
