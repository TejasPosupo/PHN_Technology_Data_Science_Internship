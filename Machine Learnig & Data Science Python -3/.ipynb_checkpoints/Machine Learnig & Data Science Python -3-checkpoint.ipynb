{
 "cells": [
  {
   "cell_type": "markdown",
   "id": "3dfe541a",
   "metadata": {},
   "source": [
    "# Importing Dependencies"
   ]
  },
  {
   "cell_type": "code",
   "execution_count": 2,
   "id": "d44fb3be",
   "metadata": {
    "ExecuteTime": {
     "end_time": "2023-05-13T11:01:28.955879Z",
     "start_time": "2023-05-13T11:01:28.186662Z"
    }
   },
   "outputs": [],
   "source": [
    "import numpy as np\n",
    "import pandas as pd"
   ]
  },
  {
   "cell_type": "code",
   "execution_count": 3,
   "id": "586b8079",
   "metadata": {
    "ExecuteTime": {
     "end_time": "2023-05-13T11:01:29.003786Z",
     "start_time": "2023-05-13T11:01:28.955879Z"
    }
   },
   "outputs": [
    {
     "data": {
      "text/html": [
       "<div>\n",
       "<style scoped>\n",
       "    .dataframe tbody tr th:only-of-type {\n",
       "        vertical-align: middle;\n",
       "    }\n",
       "\n",
       "    .dataframe tbody tr th {\n",
       "        vertical-align: top;\n",
       "    }\n",
       "\n",
       "    .dataframe thead th {\n",
       "        text-align: right;\n",
       "    }\n",
       "</style>\n",
       "<table border=\"1\" class=\"dataframe\">\n",
       "  <thead>\n",
       "    <tr style=\"text-align: right;\">\n",
       "      <th></th>\n",
       "      <th>fruit</th>\n",
       "      <th>Quantity</th>\n",
       "    </tr>\n",
       "  </thead>\n",
       "  <tbody>\n",
       "    <tr>\n",
       "      <th>0</th>\n",
       "      <td>Apple</td>\n",
       "      <td>10</td>\n",
       "    </tr>\n",
       "    <tr>\n",
       "      <th>1</th>\n",
       "      <td>Banana</td>\n",
       "      <td>5</td>\n",
       "    </tr>\n",
       "    <tr>\n",
       "      <th>2</th>\n",
       "      <td>Apple</td>\n",
       "      <td>15</td>\n",
       "    </tr>\n",
       "    <tr>\n",
       "      <th>3</th>\n",
       "      <td>Orange</td>\n",
       "      <td>20</td>\n",
       "    </tr>\n",
       "    <tr>\n",
       "      <th>4</th>\n",
       "      <td>Banana</td>\n",
       "      <td>10</td>\n",
       "    </tr>\n",
       "  </tbody>\n",
       "</table>\n",
       "</div>"
      ],
      "text/plain": [
       "    fruit Quantity\n",
       "0   Apple       10\n",
       "1  Banana        5\n",
       "2   Apple       15\n",
       "3  Orange       20\n",
       "4  Banana       10"
      ]
     },
     "execution_count": 3,
     "metadata": {},
     "output_type": "execute_result"
    }
   ],
   "source": [
    "dataframe = {\"fruit\":['Apple' , 'Banana' , 'Apple' , 'Orange' , 'Banana'] , \"Quantity\": ['10', '5' ,'15' ,'20' ,'10']}\n",
    "df = pd.DataFrame(dataframe)\n",
    "df\n"
   ]
  },
  {
   "cell_type": "code",
   "execution_count": 4,
   "id": "6abad9c0",
   "metadata": {
    "ExecuteTime": {
     "end_time": "2023-05-13T11:01:29.268568Z",
     "start_time": "2023-05-13T11:01:29.017787Z"
    }
   },
   "outputs": [],
   "source": [
    "df.to_excel(\"input.xlsx\")"
   ]
  },
  {
   "cell_type": "code",
   "execution_count": 5,
   "id": "e6c157b0",
   "metadata": {
    "ExecuteTime": {
     "end_time": "2023-05-13T11:01:30.119552Z",
     "start_time": "2023-05-13T11:01:29.275830Z"
    }
   },
   "outputs": [
    {
     "data": {
      "text/html": [
       "<div>\n",
       "<style scoped>\n",
       "    .dataframe tbody tr th:only-of-type {\n",
       "        vertical-align: middle;\n",
       "    }\n",
       "\n",
       "    .dataframe tbody tr th {\n",
       "        vertical-align: top;\n",
       "    }\n",
       "\n",
       "    .dataframe thead th {\n",
       "        text-align: right;\n",
       "    }\n",
       "</style>\n",
       "<table border=\"1\" class=\"dataframe\">\n",
       "  <thead>\n",
       "    <tr style=\"text-align: right;\">\n",
       "      <th></th>\n",
       "      <th>Unnamed: 0</th>\n",
       "      <th>fruit</th>\n",
       "      <th>Quantity</th>\n",
       "    </tr>\n",
       "  </thead>\n",
       "  <tbody>\n",
       "    <tr>\n",
       "      <th>0</th>\n",
       "      <td>0</td>\n",
       "      <td>Apple</td>\n",
       "      <td>10</td>\n",
       "    </tr>\n",
       "    <tr>\n",
       "      <th>1</th>\n",
       "      <td>1</td>\n",
       "      <td>Banana</td>\n",
       "      <td>5</td>\n",
       "    </tr>\n",
       "    <tr>\n",
       "      <th>2</th>\n",
       "      <td>2</td>\n",
       "      <td>Apple</td>\n",
       "      <td>15</td>\n",
       "    </tr>\n",
       "    <tr>\n",
       "      <th>3</th>\n",
       "      <td>3</td>\n",
       "      <td>Orange</td>\n",
       "      <td>20</td>\n",
       "    </tr>\n",
       "    <tr>\n",
       "      <th>4</th>\n",
       "      <td>4</td>\n",
       "      <td>Banana</td>\n",
       "      <td>10</td>\n",
       "    </tr>\n",
       "  </tbody>\n",
       "</table>\n",
       "</div>"
      ],
      "text/plain": [
       "   Unnamed: 0   fruit  Quantity\n",
       "0           0   Apple        10\n",
       "1           1  Banana         5\n",
       "2           2   Apple        15\n",
       "3           3  Orange        20\n",
       "4           4  Banana        10"
      ]
     },
     "execution_count": 5,
     "metadata": {},
     "output_type": "execute_result"
    }
   ],
   "source": [
    "pd.read_excel('input.xlsx')"
   ]
  },
  {
   "cell_type": "code",
   "execution_count": 17,
   "id": "bb43d890",
   "metadata": {
    "ExecuteTime": {
     "end_time": "2023-05-13T11:08:30.290381Z",
     "start_time": "2023-05-13T11:08:30.266382Z"
    }
   },
   "outputs": [
    {
     "data": {
      "text/html": [
       "<div>\n",
       "<style scoped>\n",
       "    .dataframe tbody tr th:only-of-type {\n",
       "        vertical-align: middle;\n",
       "    }\n",
       "\n",
       "    .dataframe tbody tr th {\n",
       "        vertical-align: top;\n",
       "    }\n",
       "\n",
       "    .dataframe thead th {\n",
       "        text-align: right;\n",
       "    }\n",
       "</style>\n",
       "<table border=\"1\" class=\"dataframe\">\n",
       "  <thead>\n",
       "    <tr style=\"text-align: right;\">\n",
       "      <th></th>\n",
       "      <th>fruit</th>\n",
       "      <th>Quantity</th>\n",
       "    </tr>\n",
       "  </thead>\n",
       "  <tbody>\n",
       "    <tr>\n",
       "      <th>0</th>\n",
       "      <td>Apple</td>\n",
       "      <td>10</td>\n",
       "    </tr>\n",
       "    <tr>\n",
       "      <th>1</th>\n",
       "      <td>Banana</td>\n",
       "      <td>5</td>\n",
       "    </tr>\n",
       "    <tr>\n",
       "      <th>2</th>\n",
       "      <td>Apple</td>\n",
       "      <td>15</td>\n",
       "    </tr>\n",
       "    <tr>\n",
       "      <th>3</th>\n",
       "      <td>Orange</td>\n",
       "      <td>20</td>\n",
       "    </tr>\n",
       "    <tr>\n",
       "      <th>4</th>\n",
       "      <td>Banana</td>\n",
       "      <td>10</td>\n",
       "    </tr>\n",
       "  </tbody>\n",
       "</table>\n",
       "</div>"
      ],
      "text/plain": [
       "    fruit Quantity\n",
       "0   Apple       10\n",
       "1  Banana        5\n",
       "2   Apple       15\n",
       "3  Orange       20\n",
       "4  Banana       10"
      ]
     },
     "execution_count": 17,
     "metadata": {},
     "output_type": "execute_result"
    }
   ],
   "source": [
    "df.drop_duplicates(inplace=True)\n",
    "df"
   ]
  },
  {
   "cell_type": "code",
   "execution_count": 18,
   "id": "e3b82707",
   "metadata": {
    "ExecuteTime": {
     "end_time": "2023-05-13T11:08:46.790080Z",
     "start_time": "2023-05-13T11:08:46.770081Z"
    }
   },
   "outputs": [
    {
     "name": "stdout",
     "output_type": "stream",
     "text": [
      "(None, 'fruit', 'Quantity')\n",
      "(0, 'Apple', '10')\n",
      "(1, 'Banana', '5')\n",
      "(2, 'Apple', '15')\n",
      "(3, 'Orange', '20')\n",
      "(4, 'Banana', '10')\n"
     ]
    }
   ],
   "source": [
    "import openpyxl\n",
    "data = openpyxl.load_workbook(\"input.xlsx\")\n",
    "sheet = data.active\n",
    "for row in sheet.iter_rows(values_only=True):\n",
    "    print(row)\n"
   ]
  },
  {
   "cell_type": "code",
   "execution_count": 19,
   "id": "d686b433",
   "metadata": {
    "ExecuteTime": {
     "end_time": "2023-05-13T11:08:47.786861Z",
     "start_time": "2023-05-13T11:08:47.734202Z"
    }
   },
   "outputs": [],
   "source": [
    "import openpyxl\n",
    "\n",
    "# Open the Excel spreadsheet\n",
    "workbook = openpyxl.load_workbook('input.xlsx')\n",
    "sheet = workbook.active\n",
    "\n",
    "# Create a dictionary to store the count of each fruit\n",
    "fruit_counts = {}\n",
    "\n",
    "# Loop through the rows of the spreadsheet, starting from the second row\n",
    "for row in sheet.iter_rows(min_row=2, values_only=True):\n",
    "    # Get the fruit name from the current row\n",
    "    fruit_name = row[0]\n",
    "    \n",
    "    # If the fruit name is not already in the dictionary, add it with a count of zero\n",
    "    if fruit_name not in fruit_counts:\n",
    "        fruit_counts[fruit_name] = 0\n",
    "    \n",
    "    # Increment the count for the fruit\n",
    "    fruit_counts[fruit_name] += 1\n",
    "\n",
    "# Create a new Excel spreadsheet\n",
    "new_workbook = openpyxl.Workbook()\n",
    "new_sheet = new_workbook.active\n",
    "\n",
    "# Write the header row to the new spreadsheet\n",
    "new_sheet['A1'] = 'Fruit'\n",
    "new_sheet['B1'] = 'Count'\n",
    "\n",
    "# Loop through the fruit counts and write them to the new spreadsheet\n",
    "row_num = 2\n",
    "for fruit_name, count in fruit_counts.items():\n",
    "    new_sheet.cell(row=row_num, column=1, value=fruit_name)\n",
    "    new_sheet.cell(row=row_num, column=2, value=count)\n",
    "    row_num += 1\n",
    "\n",
    "# Save the new spreadsheet\n",
    "new_workbook.save('output.xlsx')\n"
   ]
  },
  {
   "cell_type": "code",
   "execution_count": 20,
   "id": "86c46a04",
   "metadata": {
    "ExecuteTime": {
     "end_time": "2023-05-13T11:08:49.550600Z",
     "start_time": "2023-05-13T11:08:49.504600Z"
    }
   },
   "outputs": [
    {
     "data": {
      "text/html": [
       "<div>\n",
       "<style scoped>\n",
       "    .dataframe tbody tr th:only-of-type {\n",
       "        vertical-align: middle;\n",
       "    }\n",
       "\n",
       "    .dataframe tbody tr th {\n",
       "        vertical-align: top;\n",
       "    }\n",
       "\n",
       "    .dataframe thead th {\n",
       "        text-align: right;\n",
       "    }\n",
       "</style>\n",
       "<table border=\"1\" class=\"dataframe\">\n",
       "  <thead>\n",
       "    <tr style=\"text-align: right;\">\n",
       "      <th></th>\n",
       "      <th>Fruit</th>\n",
       "      <th>Count</th>\n",
       "    </tr>\n",
       "  </thead>\n",
       "  <tbody>\n",
       "    <tr>\n",
       "      <th>0</th>\n",
       "      <td>0</td>\n",
       "      <td>1</td>\n",
       "    </tr>\n",
       "    <tr>\n",
       "      <th>1</th>\n",
       "      <td>1</td>\n",
       "      <td>1</td>\n",
       "    </tr>\n",
       "    <tr>\n",
       "      <th>2</th>\n",
       "      <td>2</td>\n",
       "      <td>1</td>\n",
       "    </tr>\n",
       "    <tr>\n",
       "      <th>3</th>\n",
       "      <td>3</td>\n",
       "      <td>1</td>\n",
       "    </tr>\n",
       "    <tr>\n",
       "      <th>4</th>\n",
       "      <td>4</td>\n",
       "      <td>1</td>\n",
       "    </tr>\n",
       "  </tbody>\n",
       "</table>\n",
       "</div>"
      ],
      "text/plain": [
       "   Fruit  Count\n",
       "0      0      1\n",
       "1      1      1\n",
       "2      2      1\n",
       "3      3      1\n",
       "4      4      1"
      ]
     },
     "execution_count": 20,
     "metadata": {},
     "output_type": "execute_result"
    }
   ],
   "source": [
    "pd.read_excel('output.xlsx')"
   ]
  },
  {
   "cell_type": "code",
   "execution_count": null,
   "id": "9c80e7a2",
   "metadata": {},
   "outputs": [],
   "source": []
  }
 ],
 "metadata": {
  "kernelspec": {
   "display_name": "Python 3 (ipykernel)",
   "language": "python",
   "name": "python3"
  },
  "language_info": {
   "codemirror_mode": {
    "name": "ipython",
    "version": 3
   },
   "file_extension": ".py",
   "mimetype": "text/x-python",
   "name": "python",
   "nbconvert_exporter": "python",
   "pygments_lexer": "ipython3",
   "version": "3.9.13"
  },
  "varInspector": {
   "cols": {
    "lenName": 16,
    "lenType": 16,
    "lenVar": 40
   },
   "kernels_config": {
    "python": {
     "delete_cmd_postfix": "",
     "delete_cmd_prefix": "del ",
     "library": "var_list.py",
     "varRefreshCmd": "print(var_dic_list())"
    },
    "r": {
     "delete_cmd_postfix": ") ",
     "delete_cmd_prefix": "rm(",
     "library": "var_list.r",
     "varRefreshCmd": "cat(var_dic_list()) "
    }
   },
   "types_to_exclude": [
    "module",
    "function",
    "builtin_function_or_method",
    "instance",
    "_Feature"
   ],
   "window_display": false
  }
 },
 "nbformat": 4,
 "nbformat_minor": 5
}
